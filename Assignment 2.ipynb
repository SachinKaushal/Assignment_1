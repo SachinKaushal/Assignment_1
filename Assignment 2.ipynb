{
 "cells": [
  {
   "cell_type": "code",
   "execution_count": 52,
   "metadata": {},
   "outputs": [
    {
     "name": "stdout",
     "output_type": "stream",
     "text": [
      "60\n"
     ]
    }
   ],
   "source": [
    "# ASSIGNMENT 2:\n",
    "# Task 1:\n",
    "# Answer 1.1 : Write a Python Program to implement your own myreduce() function which works exactly like Python's built-in function reduce()\n",
    "#from functools import reduce\n",
    "#lst=[47,11,42,11]\n",
    "#reduce(lambda x,y:x+y,lst)\n",
    "def addVal(val1,val2):\n",
    "    return val1+val2\n",
    "\n",
    "lst=[56,1,1,2]\n",
    "val1=0\n",
    "val2=0\n",
    "for itm in lst:\n",
    "    val1=itm\n",
    "    val2=addVal(val1,val2)\n",
    "print(val2)"
   ]
  },
  {
   "cell_type": "code",
   "execution_count": 62,
   "metadata": {},
   "outputs": [
    {
     "name": "stdout",
     "output_type": "stream",
     "text": [
      "[False, True, False, False, False, False, True]\n"
     ]
    }
   ],
   "source": [
    "# Task 1:\n",
    "# Answert 1.2 : Write a Python program to implement your own myfilter() function which works exactly like Python's built-in function filter()\n",
    "\n",
    "def myfilter(val):\n",
    "    if val%2==0:\n",
    "        return True\n",
    "    else:\n",
    "        return False\n",
    "\n",
    "lst=[35,2,9,11,33,43,6]\n",
    "#list(map(lambda x:x%2==0,lst))\n",
    "newList=[]\n",
    "for itm in lst:\n",
    "    newList.append(myfilter(itm))\n",
    "    \n",
    "print(newList)"
   ]
  },
  {
   "cell_type": "code",
   "execution_count": 9,
   "metadata": {},
   "outputs": [
    {
     "name": "stdout",
     "output_type": "stream",
     "text": [
      "['A', 'C', 'A', 'D', 'G', 'I', 'L', 'D']\n"
     ]
    }
   ],
   "source": [
    "# Task 1:\n",
    "# Answer 2 : Implement list comprehensions\n",
    "#Output = ['A', 'C', 'A', 'D', 'G', 'I', 'L', 'D']\n",
    "\n",
    "l1=['a','c','a','d','g','i','l','d']\n",
    "print([itm.upper() for itm in l1])"
   ]
  },
  {
   "cell_type": "code",
   "execution_count": 1,
   "metadata": {},
   "outputs": [
    {
     "name": "stdout",
     "output_type": "stream",
     "text": [
      "['x', 'xx', 'xxx', 'xxxx', 'y', 'yy', 'yyy', 'yyyy', 'z', 'zz', 'zzz', 'zzzz']\n"
     ]
    }
   ],
   "source": [
    "# Continue\n",
    "# Task 1:\n",
    "# Answer 2 : Implement list comprehensions\n",
    "#Output = ['x', 'xx', 'xxx', 'xxxx', 'y', 'yy', 'yyy', 'yyyy', 'z', 'zz', 'zzz', 'zzzz']\n",
    "\n",
    "l2=['x','y','z']\n",
    "#l3=[]\n",
    "#for itm in l2:\n",
    "#    l3.append(itm)\n",
    "#    l3.append(itm*2)\n",
    "#    l3.append(itm*3)\n",
    "#    l3.append(itm*4)\n",
    "#print(l3)\n",
    "\n",
    "l3=[[itm,itm*2,itm*3,itm*4] for itm in l2]\n",
    "l4=[]\n",
    "for itm in l3:\n",
    "    for val in itm:\n",
    "        l4.append(val)\n",
    "print(l4)"
   ]
  },
  {
   "cell_type": "code",
   "execution_count": 8,
   "metadata": {},
   "outputs": [
    {
     "name": "stdout",
     "output_type": "stream",
     "text": [
      "['x', 'y', 'z', 'xx', 'yy', 'zz', 'xx', 'yy', 'zz', 'xxxx', 'yyyy', 'zzzz']\n"
     ]
    }
   ],
   "source": [
    "# Continue\n",
    "# Task 1:\n",
    "# Answer 2 : Implement list comprehensions\n",
    "#Output = ['x', 'y', 'z', 'xx', 'yy', 'zz', 'xx', 'yy', 'zz', 'xxxx', 'yyyy', 'zzzz']\n",
    "\n",
    "l2=['x','y','z']\n",
    "l3=[itm*2 for itm in l2]\n",
    "l4=[itm*4 for itm in l2]\n",
    "l2.extend(l3)\n",
    "l2.extend(l3)\n",
    "l2.extend(l4)\n",
    "print(l2)"
   ]
  },
  {
   "cell_type": "code",
   "execution_count": 9,
   "metadata": {},
   "outputs": [
    {
     "name": "stdout",
     "output_type": "stream",
     "text": [
      "[[2], [3], [4], [3], [4], [5], [4], [5], [6]]\n"
     ]
    }
   ],
   "source": [
    "# Continue\n",
    "# Task 1:\n",
    "# Answer 2 : Implement list comprehensions\n",
    "#Output = [[2], [3], [4], [3], [4], [5], [4], [5], [6]]\n",
    "def return_List(itm):\n",
    "    l3=[0,1,2]\n",
    "    c3=[]\n",
    "    for itmL3 in l3:\n",
    "        c3.append([itmL3+itm])\n",
    "    return c3\n",
    "\n",
    "l2=list(range(2,5))\n",
    "l3=[]\n",
    "for itm in l2:\n",
    "    l3.extend(return_List(itm))\n",
    "print(l3)"
   ]
  },
  {
   "cell_type": "code",
   "execution_count": 10,
   "metadata": {},
   "outputs": [
    {
     "data": {
      "text/plain": [
       "[[2], [3], [4], [3], [4], [5], [4], [5], [6]]"
      ]
     },
     "execution_count": 10,
     "metadata": {},
     "output_type": "execute_result"
    }
   ],
   "source": [
    "# OR\n",
    "list3=[[i+j]for j in [0,1,2] for i in range(2,5)]\n",
    "list3"
   ]
  },
  {
   "cell_type": "code",
   "execution_count": 52,
   "metadata": {},
   "outputs": [
    {
     "data": {
      "text/plain": [
       "[[2, 3, 4, 5], [3, 4, 5, 6], [4, 5, 6, 7], [5, 6, 7, 8]]"
      ]
     },
     "execution_count": 52,
     "metadata": {},
     "output_type": "execute_result"
    }
   ],
   "source": [
    "# Continue\n",
    "# Task 1:\n",
    "# Answer 2 : Implement list comprehensions\n",
    "#Output = [[2, 3, 4, 5], [3, 4, 5, 6], [4, 5, 6, 7], [5, 6, 7, 8]]\n",
    "\n",
    "#def return_List(itm):\n",
    "#    l3=[0,1,2,3]\n",
    "#    c3=[]\n",
    "#    for itmL3 in l3:\n",
    "#        c3.append(itmL3+itm)\n",
    "#    return c3\n",
    "\n",
    "#l2=list(range(2,6))\n",
    "#l3=[]\n",
    "#for itm in l2:\n",
    "#    l3.extend([return_List(itm)])\n",
    "#print(l3)\n",
    "\n",
    "l3=[[(i+j) for j in [0,1,2,3]] for i in range(2,6)]\n",
    "l3\n"
   ]
  },
  {
   "cell_type": "code",
   "execution_count": 112,
   "metadata": {},
   "outputs": [
    {
     "data": {
      "text/plain": [
       "[(1, 1), (2, 1), (3, 1), (1, 2), (2, 2), (3, 2), (1, 3), (2, 3), (3, 3)]"
      ]
     },
     "execution_count": 112,
     "metadata": {},
     "output_type": "execute_result"
    }
   ],
   "source": [
    "# Continue\n",
    "# Task 1:\n",
    "# Answer 2 : Implement list comprehensions\n",
    "# Output : [(1, 1), (2, 1), (3, 1), (1, 2), (2, 2), (3, 2), (1, 3), (2, 3), (3, 3)]\n",
    "\n",
    "list3=[(i,j) for j in [1,2,3] for i in [1,2,3]]\n",
    "list3"
   ]
  },
  {
   "cell_type": "code",
   "execution_count": 29,
   "metadata": {},
   "outputs": [
    {
     "name": "stdout",
     "output_type": "stream",
     "text": [
      "favourite\n"
     ]
    }
   ],
   "source": [
    "# Task 1:\n",
    "# Answer3: Implement a function longestWord() that takes a list of words and returns the longest one\n",
    "\n",
    "def longestWord(lst):\n",
    "    val1=0\n",
    "    val2=0\n",
    "    for itm in lst:\n",
    "        val1=len(itm)\n",
    "        if val2==0:\n",
    "            val2=val1\n",
    "            strval=itm\n",
    "        elif val2<val1:\n",
    "            val2=val1\n",
    "            strval=itm\n",
    "    return strval\n",
    "\n",
    "lst=['This','is','my','favourite','string']\n",
    "print(longestWord(lst))"
   ]
  },
  {
   "cell_type": "code",
   "execution_count": 46,
   "metadata": {},
   "outputs": [
    {
     "name": "stdout",
     "output_type": "stream",
     "text": [
      "11.313708498984761\n"
     ]
    }
   ],
   "source": [
    "# Task 2:\n",
    "# Answer 1.1: Write a Python Program(with class concepts) to find the area of the triangle using the below formula.\n",
    "# Formula: area = (s*(s-a)*(s-b)*(s-c)) ** 0.5\n",
    "\n",
    "\n",
    "class concepts:\n",
    "    def area(this,a,b,c):\n",
    "        this.a=a\n",
    "        this.b=b\n",
    "        this.c=c\n",
    "        s=(this.a + this.b + this.c)/2\n",
    "        return (s*(s-this.a)*(s-this.b)*(s-this.c))**0.5\n",
    "\n",
    "c1=concepts()\n",
    "print(c1.area(4,6,6))"
   ]
  },
  {
   "cell_type": "code",
   "execution_count": 38,
   "metadata": {},
   "outputs": [
    {
     "name": "stdout",
     "output_type": "stream",
     "text": [
      "Enter value3\n"
     ]
    },
    {
     "data": {
      "text/plain": [
       "['this', 'very', 'naughty']"
      ]
     },
     "execution_count": 38,
     "metadata": {},
     "output_type": "execute_result"
    }
   ],
   "source": [
    "# Task 2:\n",
    "# Answer 1.2: Write a function filter_long_words() that takes a list of words and an integer n and returns the list of words that are longer than n. \n",
    "def filter_long_words(val,n):\n",
    "    if len(val)>n:\n",
    "        return val\n",
    "\n",
    "lst=['this','is','my','dog','its','very','naughty']\n",
    "n=int(input(\"Enter value\"))\n",
    "list(filter(lambda x:filter_long_words(x,n),lst))\n"
   ]
  },
  {
   "cell_type": "code",
   "execution_count": 26,
   "metadata": {},
   "outputs": [
    {
     "data": {
      "text/plain": [
       "[2, 4, 2, 14]"
      ]
     },
     "execution_count": 26,
     "metadata": {},
     "output_type": "execute_result"
    }
   ],
   "source": [
    "# Task 2:\n",
    "# Answer 2.1: Write a Python program using function concept that maps list of words into a list of integers representing the lengths of the corresponding words \n",
    "def ret_NewList(val):\n",
    "        return len(val)\n",
    "\n",
    "lst=['my','name','is','sachin kaushal']\n",
    "list(map(lambda x:ret_NewList(x),lst))"
   ]
  },
  {
   "cell_type": "code",
   "execution_count": 17,
   "metadata": {},
   "outputs": [
    {
     "name": "stdout",
     "output_type": "stream",
     "text": [
      "Enter character to find as vowele\n",
      "True\n",
      "None\n"
     ]
    }
   ],
   "source": [
    "# Task 2:\n",
    "# Answer 2.2: Write a Python function which takes a character (i.e. a string of length 1) and returns True if it is a vowel, False otherwise\n",
    "def check_vowel(val):\n",
    "    lst=['a','e','i','o','u']\n",
    "    if val in lst:\n",
    "        print(True)\n",
    "    else:\n",
    "        print(False)\n",
    "\n",
    "val=input(\"Enter character to find as vowel\")\n",
    "print(check_vowel(val))\n"
   ]
  }
 ],
 "metadata": {
  "kernelspec": {
   "display_name": "Python 3",
   "language": "python",
   "name": "python3"
  },
  "language_info": {
   "codemirror_mode": {
    "name": "ipython",
    "version": 3
   },
   "file_extension": ".py",
   "mimetype": "text/x-python",
   "name": "python",
   "nbconvert_exporter": "python",
   "pygments_lexer": "ipython3",
   "version": "3.7.4"
  }
 },
 "nbformat": 4,
 "nbformat_minor": 2
}
